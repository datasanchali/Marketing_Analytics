{
 "cells": [
  {
   "cell_type": "markdown",
   "id": "beae77a0-0165-468b-aef6-76bd9d449f1e",
   "metadata": {},
   "source": [
    "## Channel Attribution Modelling - Digital Marketing"
   ]
  },
  {
   "cell_type": "markdown",
   "id": "f2124fee-4e82-424e-b54c-65e2fc062e99",
   "metadata": {},
   "source": [
    "### Data Load and Preprocessing"
   ]
  },
  {
   "cell_type": "code",
   "execution_count": 148,
   "id": "a865deb7-3193-44a8-9c3d-af320181b6f7",
   "metadata": {},
   "outputs": [],
   "source": [
    "import pandas as pd\n",
    "import numpy as np\n",
    "import seaborn as sns\n",
    "import matplotlib.pyplot as plt\n",
    "from collections import defaultdict\n",
    "from itertools import tee"
   ]
  },
  {
   "cell_type": "code",
   "execution_count": 2,
   "id": "1b711611-5659-4b85-81d3-ed2f22217af2",
   "metadata": {},
   "outputs": [
    {
     "data": {
      "text/html": [
       "<div>\n",
       "<style scoped>\n",
       "    .dataframe tbody tr th:only-of-type {\n",
       "        vertical-align: middle;\n",
       "    }\n",
       "\n",
       "    .dataframe tbody tr th {\n",
       "        vertical-align: top;\n",
       "    }\n",
       "\n",
       "    .dataframe thead th {\n",
       "        text-align: right;\n",
       "    }\n",
       "</style>\n",
       "<table border=\"1\" class=\"dataframe\">\n",
       "  <thead>\n",
       "    <tr style=\"text-align: right;\">\n",
       "      <th></th>\n",
       "      <th>cookie</th>\n",
       "      <th>time</th>\n",
       "      <th>interaction</th>\n",
       "      <th>conversion</th>\n",
       "      <th>conversion_value</th>\n",
       "      <th>channel</th>\n",
       "    </tr>\n",
       "  </thead>\n",
       "  <tbody>\n",
       "    <tr>\n",
       "      <th>0</th>\n",
       "      <td>00000FkCnDfDDf0iC97iC703B</td>\n",
       "      <td>2018-07-03T13:02:11Z</td>\n",
       "      <td>impression</td>\n",
       "      <td>0</td>\n",
       "      <td>0.0</td>\n",
       "      <td>Instagram</td>\n",
       "    </tr>\n",
       "    <tr>\n",
       "      <th>1</th>\n",
       "      <td>00000FkCnDfDDf0iC97iC703B</td>\n",
       "      <td>2018-07-17T19:15:07Z</td>\n",
       "      <td>impression</td>\n",
       "      <td>0</td>\n",
       "      <td>0.0</td>\n",
       "      <td>Online Display</td>\n",
       "    </tr>\n",
       "    <tr>\n",
       "      <th>2</th>\n",
       "      <td>00000FkCnDfDDf0iC97iC703B</td>\n",
       "      <td>2018-07-24T15:51:46Z</td>\n",
       "      <td>impression</td>\n",
       "      <td>0</td>\n",
       "      <td>0.0</td>\n",
       "      <td>Online Display</td>\n",
       "    </tr>\n",
       "    <tr>\n",
       "      <th>3</th>\n",
       "      <td>00000FkCnDfDDf0iC97iC703B</td>\n",
       "      <td>2018-07-29T07:44:51Z</td>\n",
       "      <td>impression</td>\n",
       "      <td>0</td>\n",
       "      <td>0.0</td>\n",
       "      <td>Online Display</td>\n",
       "    </tr>\n",
       "    <tr>\n",
       "      <th>4</th>\n",
       "      <td>0000nACkD9nFkBBDECD3ki00E</td>\n",
       "      <td>2018-07-03T09:44:57Z</td>\n",
       "      <td>impression</td>\n",
       "      <td>0</td>\n",
       "      <td>0.0</td>\n",
       "      <td>Paid Search</td>\n",
       "    </tr>\n",
       "  </tbody>\n",
       "</table>\n",
       "</div>"
      ],
      "text/plain": [
       "                      cookie                  time interaction  conversion  \\\n",
       "0  00000FkCnDfDDf0iC97iC703B  2018-07-03T13:02:11Z  impression           0   \n",
       "1  00000FkCnDfDDf0iC97iC703B  2018-07-17T19:15:07Z  impression           0   \n",
       "2  00000FkCnDfDDf0iC97iC703B  2018-07-24T15:51:46Z  impression           0   \n",
       "3  00000FkCnDfDDf0iC97iC703B  2018-07-29T07:44:51Z  impression           0   \n",
       "4  0000nACkD9nFkBBDECD3ki00E  2018-07-03T09:44:57Z  impression           0   \n",
       "\n",
       "   conversion_value         channel  \n",
       "0               0.0       Instagram  \n",
       "1               0.0  Online Display  \n",
       "2               0.0  Online Display  \n",
       "3               0.0  Online Display  \n",
       "4               0.0     Paid Search  "
      ]
     },
     "execution_count": 2,
     "metadata": {},
     "output_type": "execute_result"
    }
   ],
   "source": [
    "#Importing the data\n",
    "df = pd.read_csv('/Users/sanchalisinghal/Desktop/ML Models/Marketing Projects/Channel Attribution Model/attribution data.csv')\n",
    "df.head()"
   ]
  },
  {
   "cell_type": "code",
   "execution_count": 3,
   "id": "aa642b6f-bef2-4d09-910a-e84bd48b6566",
   "metadata": {},
   "outputs": [
    {
     "data": {
      "text/plain": [
       "(                      cookie                      time interaction  \\\n",
       " 0  00000FkCnDfDDf0iC97iC703B 2018-07-03 13:02:11+00:00  impression   \n",
       " 1  00000FkCnDfDDf0iC97iC703B 2018-07-17 19:15:07+00:00  impression   \n",
       " 2  00000FkCnDfDDf0iC97iC703B 2018-07-24 15:51:46+00:00  impression   \n",
       " 3  00000FkCnDfDDf0iC97iC703B 2018-07-29 07:44:51+00:00  impression   \n",
       " 4  0000nACkD9nFkBBDECD3ki00E 2018-07-03 09:44:57+00:00  impression   \n",
       " \n",
       "    conversion  conversion_value         channel  \n",
       " 0           0               0.0       instagram  \n",
       " 1           0               0.0  online display  \n",
       " 2           0               0.0  online display  \n",
       " 3           0               0.0  online display  \n",
       " 4           0               0.0     paid search  ,\n",
       " cookie              0\n",
       " time                0\n",
       " interaction         0\n",
       " conversion          0\n",
       " conversion_value    0\n",
       " channel             0\n",
       " dtype: int64,\n",
       " 240108,\n",
       " interaction\n",
       " impression    569098\n",
       " conversion     17639\n",
       " Name: count, dtype: int64)"
      ]
     },
     "execution_count": 3,
     "metadata": {},
     "output_type": "execute_result"
    }
   ],
   "source": [
    "# Convert 'time' column to datetime and sort the data\n",
    "df['time'] = pd.to_datetime(df['time'])\n",
    "df_sorted = df.sort_values(by=['cookie', 'time']).reset_index(drop=True)\n",
    "\n",
    "# Basic cleaning: lowercasing channel names and interaction types\n",
    "df_sorted['channel'] = df_sorted['channel'].str.strip().str.lower()\n",
    "df_sorted['interaction'] = df_sorted['interaction'].str.strip().str.lower()\n",
    "\n",
    "# Check for missing values\n",
    "missing_values = df_sorted.isnull().sum()\n",
    "\n",
    "# Summarize number of unique users and interactions\n",
    "unique_users = df_sorted['cookie'].nunique()\n",
    "interaction_types = df_sorted['interaction'].value_counts()\n",
    "\n",
    "df_sorted.head(), missing_values, unique_users, interaction_types"
   ]
  },
  {
   "cell_type": "markdown",
   "id": "e4e0df7a-5932-43fc-8e64-44c7af3555f9",
   "metadata": {},
   "source": [
    "#### Building User Journeys for Converted Users"
   ]
  },
  {
   "cell_type": "code",
   "execution_count": 8,
   "id": "e57fbab9-84f1-4a75-9696-fe78b68c777b",
   "metadata": {},
   "outputs": [],
   "source": [
    "# Add cumulative conversion flag per user\n",
    "df['conversion_cumsum'] = df.groupby('cookie')['conversion'].cumsum()\n",
    "\n",
    "# Keep only events before or at the first conversion\n",
    "df = df[df['conversion_cumsum'] <= 1].copy()"
   ]
  },
  {
   "cell_type": "code",
   "execution_count": 10,
   "id": "d1b030b2-9f40-4491-9a47-40c64e7baa50",
   "metadata": {},
   "outputs": [],
   "source": [
    "# Aggregate user journeys using groupby\n",
    "journey_df = (\n",
    "    df.groupby('cookie')\n",
    "      .agg({\n",
    "          'channel': list,\n",
    "          'conversion': 'max',\n",
    "          'conversion_value': lambda x: x[df.loc[x.index, 'conversion'] == 1].max() if any(df.loc[x.index, 'conversion'] == 1) else 0\n",
    "      })\n",
    "      .rename(columns={'channel': 'journey'})\n",
    "      .reset_index()\n",
    ")"
   ]
  },
  {
   "cell_type": "markdown",
   "id": "fba7fb28-03b3-4ac3-ace4-fee14262deee",
   "metadata": {},
   "source": [
    "### Single Touch Attribution\n",
    "These models assign 100% of credit to a single marketing channel either the first or the last. This is a naive approach and should only be used if there are <5 user totuch points. Between First and Last click, the latter is more widely used."
   ]
  },
  {
   "cell_type": "markdown",
   "id": "846dd6ed-0deb-4515-99d4-b867ec60f076",
   "metadata": {},
   "source": [
    "#### First Click Models\n",
    "The rationale behind this model is that this is the first time a user is being made aware of the product (top of the funnel)."
   ]
  },
  {
   "cell_type": "code",
   "execution_count": 12,
   "id": "a4180458-a990-4267-a61c-19862266ce24",
   "metadata": {},
   "outputs": [],
   "source": [
    "def first_click_attribution(df):\n",
    "    contrib = defaultdict(float)\n",
    "\n",
    "    # Filter only converted journeys\n",
    "    converted = df[df['conversion'] == 1]\n",
    "\n",
    "    # Accumulate contribution for first-click\n",
    "    for _, row in converted.iterrows():\n",
    "        if row['journey']:\n",
    "            contrib[row['journey'][0]] += row['conversion_value']\n",
    "\n",
    "    # Calculate total conversion value from first touches\n",
    "    total_value = sum(contrib.values())\n",
    "\n",
    "    # Convert to percentage format\n",
    "    contrib_percentage = {ch: round((val / total_value) * 100, 2) for ch, val in contrib.items()} if total_value > 0 else {}\n",
    "    \n",
    "    return contrib_percentage"
   ]
  },
  {
   "cell_type": "markdown",
   "id": "7843f891-c252-4aac-9747-732f58c894e6",
   "metadata": {},
   "source": [
    "#### Last Click Attribution"
   ]
  },
  {
   "cell_type": "code",
   "execution_count": 15,
   "id": "9b2822fe-716e-4e31-bc43-9e16abce2bbd",
   "metadata": {},
   "outputs": [],
   "source": [
    "def last_click_attribution(df):\n",
    "    contrib = defaultdict(float)\n",
    "\n",
    "    # Only include converted journeys\n",
    "    converted = df[df['conversion'] == 1]\n",
    "\n",
    "    for _, row in converted.iterrows():\n",
    "        if row['journey']:\n",
    "            contrib[row['journey'][-1]] += row['conversion_value']\n",
    "\n",
    "    total_value = sum(contrib.values())\n",
    "    contrib_percentage = {ch: round((val / total_value) * 100, 2) for ch, val in contrib.items()} if total_value > 0 else {}\n",
    "    \n",
    "    return contrib_percentage"
   ]
  },
  {
   "cell_type": "code",
   "execution_count": 17,
   "id": "6f390f82-e688-482e-87e2-15b65d3bdb64",
   "metadata": {},
   "outputs": [
    {
     "name": "stdout",
     "output_type": "stream",
     "text": [
      "First Click Weights%: {'Paid Search': 26.97, 'Facebook': 29.29, 'Online Video': 18.35, 'Instagram': 13.23, 'Online Display': 12.17}\n",
      "Last Click Weights%: {'Paid Search': 25.7, 'Facebook': 30.07, 'Online Video': 19.43, 'Instagram': 12.74, 'Online Display': 12.06}\n"
     ]
    }
   ],
   "source": [
    "first_click_pct = first_click_attribution(journey_df)\n",
    "last_click_pct = last_click_attribution(journey_df)\n",
    "\n",
    "print(\"First Click Weights%:\", first_click_pct)\n",
    "print(\"Last Click Weights%:\", last_click_pct)"
   ]
  },
  {
   "cell_type": "code",
   "execution_count": 19,
   "id": "a14e6ba0-ce4d-4f84-9a0f-c4c375e02f24",
   "metadata": {},
   "outputs": [
    {
     "data": {
      "text/plain": [
       "{'Facebook', 'Instagram', 'Online Display', 'Online Video', 'Paid Search'}"
      ]
     },
     "execution_count": 19,
     "metadata": {},
     "output_type": "execute_result"
    }
   ],
   "source": [
    "# Collect all unique channels\n",
    "all_channels_st = set(first_click_pct) | set(last_click_pct)"
   ]
  },
  {
   "cell_type": "code",
   "execution_count": 49,
   "id": "a6d3b6fb-7034-494d-8ec8-79b733dd9061",
   "metadata": {},
   "outputs": [],
   "source": [
    "# Build the DataFrame dynamically\n",
    "attribution_df_st = pd.DataFrame({\n",
    "    'Channel': list(all_channels_st),\n",
    "    'First Click': [first_click_pct.get(ch, 0) for ch in all_channels_st],\n",
    "    'Last Click': [last_click_pct.get(ch, 0) for ch in all_channels_st]\n",
    "}).set_index('Channel')"
   ]
  },
  {
   "cell_type": "code",
   "execution_count": 56,
   "id": "b356c993-3610-437a-8b05-392919bc5328",
   "metadata": {},
   "outputs": [
    {
     "data": {
      "text/html": [
       "<div>\n",
       "<style scoped>\n",
       "    .dataframe tbody tr th:only-of-type {\n",
       "        vertical-align: middle;\n",
       "    }\n",
       "\n",
       "    .dataframe tbody tr th {\n",
       "        vertical-align: top;\n",
       "    }\n",
       "\n",
       "    .dataframe thead th {\n",
       "        text-align: right;\n",
       "    }\n",
       "</style>\n",
       "<table border=\"1\" class=\"dataframe\">\n",
       "  <thead>\n",
       "    <tr style=\"text-align: right;\">\n",
       "      <th></th>\n",
       "      <th>First Click</th>\n",
       "      <th>Last Click</th>\n",
       "    </tr>\n",
       "    <tr>\n",
       "      <th>Channel</th>\n",
       "      <th></th>\n",
       "      <th></th>\n",
       "    </tr>\n",
       "  </thead>\n",
       "  <tbody>\n",
       "    <tr>\n",
       "      <th>Facebook</th>\n",
       "      <td>29.29</td>\n",
       "      <td>30.07</td>\n",
       "    </tr>\n",
       "    <tr>\n",
       "      <th>Instagram</th>\n",
       "      <td>13.23</td>\n",
       "      <td>12.74</td>\n",
       "    </tr>\n",
       "    <tr>\n",
       "      <th>Online Display</th>\n",
       "      <td>12.17</td>\n",
       "      <td>12.06</td>\n",
       "    </tr>\n",
       "    <tr>\n",
       "      <th>Online Video</th>\n",
       "      <td>18.35</td>\n",
       "      <td>19.43</td>\n",
       "    </tr>\n",
       "    <tr>\n",
       "      <th>Paid Search</th>\n",
       "      <td>26.97</td>\n",
       "      <td>25.70</td>\n",
       "    </tr>\n",
       "  </tbody>\n",
       "</table>\n",
       "</div>"
      ],
      "text/plain": [
       "                First Click  Last Click\n",
       "Channel                                \n",
       "Facebook              29.29       30.07\n",
       "Instagram             13.23       12.74\n",
       "Online Display        12.17       12.06\n",
       "Online Video          18.35       19.43\n",
       "Paid Search           26.97       25.70"
      ]
     },
     "execution_count": 56,
     "metadata": {},
     "output_type": "execute_result"
    }
   ],
   "source": [
    "# Sort for consistent display\n",
    "attribution_df_st = attribution_df_st.sort_index()\n",
    "attribution_df_st"
   ]
  },
  {
   "cell_type": "markdown",
   "id": "d26e6648-4287-4896-a071-6fd83582bf3b",
   "metadata": {},
   "source": [
    "Facebook and Paid Search dominate both ends and capturing + converting traffic. Worth investment across the funnel.\n",
    "Online Video is more effective later possibly due to retargeting or product demos.\n",
    "Instagram and Online Display might need optimization or be better suited for awareness campaigns."
   ]
  },
  {
   "cell_type": "markdown",
   "id": "b1488988-065b-42aa-a128-b1dbf8bc2803",
   "metadata": {},
   "source": [
    "### Multit-touch Attribution Models\n",
    "For these models, credit is distributed to all the touchpoints in a user's jouney and provide a granular view than single touch models. When number of channels are in the range of 5-10, these models should be used. Mostly widely used models are Position Based: U-Shaped model."
   ]
  },
  {
   "cell_type": "markdown",
   "id": "ad726787-d808-4c2c-8c51-5b99046d9773",
   "metadata": {},
   "source": [
    "#### Linear Attribution Model\n",
    "The Linear Attribution Model gives each touchpoint the same amount of credit toward driving a conversion; it values every touchpoint evenly. "
   ]
  },
  {
   "cell_type": "code",
   "execution_count": 64,
   "id": "90758e2e-9735-4335-942f-ddcc31323cd7",
   "metadata": {},
   "outputs": [],
   "source": [
    "def linear_attribution(df):\n",
    "    contrib = defaultdict(float)\n",
    "\n",
    "    # Only include converted journeys\n",
    "    converted = df[df['conversion'] == 1]\n",
    "\n",
    "    for _, row in converted.iterrows():\n",
    "        journey = row['journey']\n",
    "        if journey:\n",
    "            split_value = row['conversion_value'] / len(journey)\n",
    "            for channel in journey:\n",
    "                contrib[channel] += split_value\n",
    "\n",
    "    total_value = sum(contrib.values())\n",
    "    contrib_percentage = {ch: round((val / total_value) * 100, 2) for ch, val in contrib.items()} if total_value > 0 else {}\n",
    "\n",
    "    return contrib_percentage"
   ]
  },
  {
   "cell_type": "markdown",
   "id": "99388bc0-4ef2-4bb0-a1bf-980509e9da5e",
   "metadata": {},
   "source": [
    "#### U-Shaped Attribution \n",
    "40% first, 40% last, 20% distributed across middle"
   ]
  },
  {
   "cell_type": "code",
   "execution_count": 67,
   "id": "b8d1e379-2aa8-4d4d-849b-a147e94c20a9",
   "metadata": {},
   "outputs": [],
   "source": [
    "def u_shaped_attribution(df):\n",
    "    contrib = defaultdict(float)\n",
    "\n",
    "    converted = df[df['conversion'] == 1]\n",
    "\n",
    "    for _, row in converted.iterrows():\n",
    "        journey = row['journey']\n",
    "        if not journey:\n",
    "            continue\n",
    "        \n",
    "        conv_value = row['conversion_value']\n",
    "        n = len(journey)\n",
    "        \n",
    "        if n == 1:\n",
    "            contrib[journey[0]] += conv_value\n",
    "        elif n == 2:\n",
    "            contrib[journey[0]] += conv_value * 0.5\n",
    "            contrib[journey[1]] += conv_value * 0.5\n",
    "        else:\n",
    "            contrib[journey[0]] += conv_value * 0.4\n",
    "            contrib[journey[-1]] += conv_value * 0.4\n",
    "            middle_value = (conv_value * 0.2) / (n - 2)\n",
    "            for ch in journey[1:-1]:\n",
    "                contrib[ch] += middle_value\n",
    "\n",
    "    total_value = sum(contrib.values())\n",
    "    return {ch: round((val / total_value) * 100, 2) for ch, val in contrib.items()} if total_value > 0 else {}"
   ]
  },
  {
   "cell_type": "markdown",
   "id": "93a1ee77-1cfd-4954-bfc4-3a4754f2853f",
   "metadata": {},
   "source": [
    "#### Position-Based Decay Attribution \n",
    "Weighted from start to end using decay curve"
   ]
  },
  {
   "cell_type": "code",
   "execution_count": 70,
   "id": "9a2b71e1-cba7-418a-8e2c-ab57c43640fb",
   "metadata": {},
   "outputs": [],
   "source": [
    "def position_decay_attribution(df, decay_factor=0.8):\n",
    "    \"\"\"\n",
    "    Applies an exponential decay model:\n",
    "    Weight = decay_factor^position (normalized)\n",
    "    \"\"\"\n",
    "    contrib = defaultdict(float)\n",
    "    converted = df[df['conversion'] == 1]\n",
    "\n",
    "    for _, row in converted.iterrows():\n",
    "        journey = row['journey']\n",
    "        if not journey:\n",
    "            continue\n",
    "        \n",
    "        conv_value = row['conversion_value']\n",
    "        n = len(journey)\n",
    "        \n",
    "        # Assign weights with decay\n",
    "        weights = [decay_factor ** i for i in range(n)]\n",
    "        total_weight = sum(weights)\n",
    "        normalized_weights = [w / total_weight for w in weights]\n",
    "        \n",
    "        for ch, w in zip(journey, normalized_weights):\n",
    "            contrib[ch] += conv_value * w\n",
    "\n",
    "    total_value = sum(contrib.values())\n",
    "    return {ch: round((val / total_value) * 100, 2) for ch, val in contrib.items()} if total_value > 0 else {}"
   ]
  },
  {
   "cell_type": "code",
   "execution_count": 72,
   "id": "d80fd6b3-5836-47e2-8a4b-39e82e53f4d5",
   "metadata": {},
   "outputs": [
    {
     "name": "stdout",
     "output_type": "stream",
     "text": [
      "Linear %: {'Paid Search': 26.48, 'Facebook': 29.59, 'Online Video': 19.09, 'Instagram': 12.86, 'Online Display': 11.98}\n",
      "U-Shaped %: {'Paid Search': 26.4, 'Facebook': 29.62, 'Online Video': 18.95, 'Instagram': 12.95, 'Online Display': 12.08}\n",
      "Position Decay %: {'Paid Search': 26.66, 'Facebook': 29.5, 'Online Video': 18.95, 'Instagram': 12.89, 'Online Display': 12.01}\n"
     ]
    }
   ],
   "source": [
    "linear_pct = linear_attribution(journey_df)\n",
    "u_shaped_pct = u_shaped_attribution(journey_df)\n",
    "decay_pct = position_decay_attribution(journey_df, decay_factor=0.8)\n",
    "\n",
    "print(\"Linear %:\", linear_pct)\n",
    "print(\"U-Shaped %:\", u_shaped_pct)\n",
    "print(\"Position Decay %:\", decay_pct)"
   ]
  },
  {
   "cell_type": "code",
   "execution_count": 74,
   "id": "3fc6c2cc-2485-4d2d-9638-1eac6fd8da1f",
   "metadata": {},
   "outputs": [
    {
     "data": {
      "text/plain": [
       "{'Facebook', 'Instagram', 'Online Display', 'Online Video', 'Paid Search'}"
      ]
     },
     "execution_count": 74,
     "metadata": {},
     "output_type": "execute_result"
    }
   ],
   "source": [
    "# Combine into a DataFrame\n",
    "all_channels_mt = set().union(linear_pct, u_shaped_pct, decay_pct)\n",
    "all_channels_mt"
   ]
  },
  {
   "cell_type": "code",
   "execution_count": 80,
   "id": "ebe4956b-8cde-4230-9829-84a60c89b7e4",
   "metadata": {},
   "outputs": [],
   "source": [
    "attribution_df_mt = pd.DataFrame({\n",
    "    'Channel': list(all_channels_mt),\n",
    "    'Linear': [linear_pct.get(ch, 0) for ch in all_channels_mt],\n",
    "    'U-Shaped': [u_shaped_pct.get(ch, 0) for ch in all_channels_mt],\n",
    "    'Position Decay': [decay_pct.get(ch, 0) for ch in all_channels_mt]\n",
    "}).set_index('Channel')"
   ]
  },
  {
   "cell_type": "code",
   "execution_count": 82,
   "id": "f808f01d-c716-4ecd-97ea-7656af38427a",
   "metadata": {},
   "outputs": [
    {
     "data": {
      "text/html": [
       "<div>\n",
       "<style scoped>\n",
       "    .dataframe tbody tr th:only-of-type {\n",
       "        vertical-align: middle;\n",
       "    }\n",
       "\n",
       "    .dataframe tbody tr th {\n",
       "        vertical-align: top;\n",
       "    }\n",
       "\n",
       "    .dataframe thead th {\n",
       "        text-align: right;\n",
       "    }\n",
       "</style>\n",
       "<table border=\"1\" class=\"dataframe\">\n",
       "  <thead>\n",
       "    <tr style=\"text-align: right;\">\n",
       "      <th></th>\n",
       "      <th>Linear</th>\n",
       "      <th>U-Shaped</th>\n",
       "      <th>Position Decay</th>\n",
       "    </tr>\n",
       "    <tr>\n",
       "      <th>Channel</th>\n",
       "      <th></th>\n",
       "      <th></th>\n",
       "      <th></th>\n",
       "    </tr>\n",
       "  </thead>\n",
       "  <tbody>\n",
       "    <tr>\n",
       "      <th>Facebook</th>\n",
       "      <td>29.59</td>\n",
       "      <td>29.62</td>\n",
       "      <td>29.50</td>\n",
       "    </tr>\n",
       "    <tr>\n",
       "      <th>Instagram</th>\n",
       "      <td>12.86</td>\n",
       "      <td>12.95</td>\n",
       "      <td>12.89</td>\n",
       "    </tr>\n",
       "    <tr>\n",
       "      <th>Online Display</th>\n",
       "      <td>11.98</td>\n",
       "      <td>12.08</td>\n",
       "      <td>12.01</td>\n",
       "    </tr>\n",
       "    <tr>\n",
       "      <th>Online Video</th>\n",
       "      <td>19.09</td>\n",
       "      <td>18.95</td>\n",
       "      <td>18.95</td>\n",
       "    </tr>\n",
       "    <tr>\n",
       "      <th>Paid Search</th>\n",
       "      <td>26.48</td>\n",
       "      <td>26.40</td>\n",
       "      <td>26.66</td>\n",
       "    </tr>\n",
       "  </tbody>\n",
       "</table>\n",
       "</div>"
      ],
      "text/plain": [
       "                Linear  U-Shaped  Position Decay\n",
       "Channel                                         \n",
       "Facebook         29.59     29.62           29.50\n",
       "Instagram        12.86     12.95           12.89\n",
       "Online Display   11.98     12.08           12.01\n",
       "Online Video     19.09     18.95           18.95\n",
       "Paid Search      26.48     26.40           26.66"
      ]
     },
     "execution_count": 82,
     "metadata": {},
     "output_type": "execute_result"
    }
   ],
   "source": [
    "# Sort for consistent display\n",
    "attribution_df_mt = attribution_df_mt.sort_index()\n",
    "attribution_df_mt"
   ]
  },
  {
   "cell_type": "markdown",
   "id": "ca9e3e6f-e7f0-4dc9-bb0a-80bb58565a4c",
   "metadata": {},
   "source": [
    "Facebook consistently dominates attribution across all models. Paid Search excels at initiating journeys, while Online Video gains influence later in the funnel. Instagram and Online Display play supportive roles with room for optimization."
   ]
  },
  {
   "cell_type": "markdown",
   "id": "c71d6a1f-d19f-49da-8ed0-f6666ec6f0b8",
   "metadata": {},
   "source": [
    "### Probabilistic Attribution Models\n",
    "Models that are based on stastical analysis and machine learning techniques to derive probability of conversion across all marketing channel touchpoints. "
   ]
  },
  {
   "cell_type": "markdown",
   "id": "f1503c48-45fc-4d4c-b13f-8713b87d6767",
   "metadata": {},
   "source": [
    "### Markov Attribution Model\n",
    "\n",
    "The Markov Attribution model will represent user journeys as a directed graph, with the nodes being the touchpoints or \"states\", and the graph's connecting edges being the observed transitions between those states.\n",
    "\n",
    "The key ingredient to the model is the transition probabilities (likelihood of moving between states). The number of times users have transitioned between two states is converted into a probability, and the complete graph can be used to measure the importance of each state and most likely paths to success.\n",
    "\n",
    "This model should be used when the number of channels for a particular campaign is between 10 and 15."
   ]
  },
  {
   "cell_type": "markdown",
   "id": "f84001f9-4734-40b9-bce7-dfc6568aa5c1",
   "metadata": {},
   "source": [
    "1. full paths with Start and Conversion/Null\n",
    "2. transition matrix (channel → channel probabilities)\n",
    "3. Markov chains for exact conversion rate estimation\n",
    "4. removal effects deterministically (no randomness)\n",
    "5. no negative values\n",
    "6. percentage-based attribution"
   ]
  },
  {
   "cell_type": "code",
   "execution_count": 92,
   "id": "03115be0-9db0-479d-839b-6bc67ef980dd",
   "metadata": {},
   "outputs": [],
   "source": [
    "def markov_chain_attribution(journey_df, user_col='cookie', path_col='journey', conv_col='conversion', value_col='conversion_value'):\n",
    "    # Step 1: Generate full paths with start and end states\n",
    "    journey_df['path'] = journey_df.apply(\n",
    "        lambda row: ['Start'] + row[path_col] + (['Conversion'] if row[conv_col] == 1 else ['Null']),\n",
    "        axis=1\n",
    "    )\n",
    "\n",
    "    # Step 2: Count transitions\n",
    "    transition_counts = defaultdict(int)\n",
    "    for path in journey_df['path']:\n",
    "        for i in range(len(path) - 1):\n",
    "            transition_counts[(path[i], path[i + 1])] += 1\n",
    "\n",
    "    # Step 3: Create transition matrix\n",
    "    states = sorted(set(s for pair in transition_counts for s in pair))\n",
    "    matrix = pd.DataFrame(0.0, index=states, columns=states)\n",
    "\n",
    "    for (src, dst), count in transition_counts.items():\n",
    "        matrix.at[src, dst] += count\n",
    "\n",
    "    matrix = matrix.div(matrix.sum(axis=1), axis=0).fillna(0)\n",
    "\n",
    "    # Step 4: Identify absorbing and transient states\n",
    "    absorbing = ['Conversion', 'Null']\n",
    "    transient = [s for s in matrix.index if s not in absorbing]\n",
    "\n",
    "    Q = matrix.loc[transient, transient]\n",
    "    R = matrix.loc[transient, absorbing]\n",
    "\n",
    "    # Step 5: Compute baseline conversion probability from Start\n",
    "    I = np.eye(len(Q))\n",
    "    N = np.linalg.inv(I - Q.values)\n",
    "    B = np.dot(N, R.values)\n",
    "    conv_probs = pd.DataFrame(B, index=Q.index, columns=R.columns)\n",
    "    baseline_cr = conv_probs.loc['Start', 'Conversion']\n",
    "\n",
    "    # Step 6: Compute removal effects for each channel\n",
    "    removal_effects = {}\n",
    "    for channel in Q.index:\n",
    "        if channel == 'Start':\n",
    "            continue\n",
    "\n",
    "        # Remove channel from matrix\n",
    "        Q_removed = Q.drop(index=channel, columns=channel)\n",
    "        R_removed = R.drop(index=channel)\n",
    "\n",
    "        I_removed = np.eye(len(Q_removed))\n",
    "        try:\n",
    "            N_removed = np.linalg.inv(I_removed - Q_removed.values)\n",
    "            B_removed = np.dot(N_removed, R_removed.values)\n",
    "            conv_probs_removed = pd.DataFrame(B_removed, index=Q_removed.index, columns=R.columns)\n",
    "            cr_without = conv_probs_removed.loc['Start', 'Conversion'] if 'Start' in conv_probs_removed.index else 0\n",
    "        except np.linalg.LinAlgError:\n",
    "            cr_without = 0\n",
    "\n",
    "        effect = max(0, baseline_cr - cr_without)\n",
    "        removal_effects[channel] = effect\n",
    "\n",
    "    # Step 7: Normalize to percentage-based attribution\n",
    "    total = sum(removal_effects.values())\n",
    "    attribution = {ch: round((val / total) * 100, 2) for ch, val in removal_effects.items()} if total > 0 else {}\n",
    "\n",
    "    return pd.DataFrame.from_dict(attribution, orient='index', columns=['Weight (%)']).sort_values(by='Weight (%)', ascending=False)\n"
   ]
  },
  {
   "cell_type": "code",
   "execution_count": 94,
   "id": "5e8f132e-4bff-4755-872a-de957839ffbd",
   "metadata": {},
   "outputs": [
    {
     "name": "stdout",
     "output_type": "stream",
     "text": [
      "                Weight (%)\n",
      "Facebook             29.78\n",
      "Paid Search          24.56\n",
      "Instagram            17.14\n",
      "Online Video         16.51\n",
      "Online Display       12.01\n"
     ]
    }
   ],
   "source": [
    "markov_df = markov_chain_attribution(journey_df)\n",
    "print(markov_df)"
   ]
  },
  {
   "cell_type": "markdown",
   "id": "085d4cbf-ebf9-4efb-9cb0-1cfea6cd9dd4",
   "metadata": {},
   "source": [
    "Markov model reveals more nuanced contributions especially highlighting Instagram’s indirect influence.\n",
    "It's more balanced than single-touch models and more data-driven than weighted multi-touch.\n",
    "Great for allocating budget based on true incremental value."
   ]
  },
  {
   "cell_type": "markdown",
   "id": "f1acc10f-adfa-4a1f-9525-150010b89001",
   "metadata": {},
   "source": [
    "Example user journey:\n",
    "\n",
    "Start → Facebook → Instagram → Paid Search → Conversion\n",
    "1. Last-click: Paid Search gets 100%\n",
    "2. First-click: Facebook gets 100%\n",
    "3. Linear: 25% each\n",
    "4. U shaped: Facebook 40%, Instagram 20%, Paid Search 40%\n",
    "5. Position Decay: Facebook 15%, Instagram 30%, Paid Search 55%\n",
    "6. Markov: Tests what happens if Instagram is removed. If without Instagram, users don’t continue to Paid Search, conversion rate drops\n",
    "→ Instagram gets credit for enabling the conversion"
   ]
  },
  {
   "cell_type": "markdown",
   "id": "bdad0775-dd7b-41f3-82f8-36e9eaf61c55",
   "metadata": {},
   "source": [
    "### Shapely Attribution Model\n",
    "\n",
    "Based on cooperative game theory\n",
    "It measures each channel's marginal contribution across all possible permutations of touchpoint combinations\n",
    "Fair, data-driven, and accounts for order and synergy"
   ]
  },
  {
   "cell_type": "code",
   "execution_count": 99,
   "id": "a5f700dd-663b-44df-94d8-32de8159828a",
   "metadata": {},
   "outputs": [],
   "source": [
    "from itertools import combinations, permutations\n",
    "from collections import defaultdict\n",
    "import pandas as pd\n",
    "\n",
    "def powerset(channels):\n",
    "    \"\"\"All non-empty subsets of the journey\"\"\"\n",
    "    return [set(comb) for r in range(1, len(channels)+1) for comb in combinations(channels, r)]\n",
    "\n",
    "def shapley_attribution(journey_df, path_col='journey', conv_col='conversion', value_col='conversion_value'):\n",
    "    shapley_values = defaultdict(float)\n",
    "\n",
    "    # Only converted journeys\n",
    "    converted = journey_df[journey_df[conv_col] == 1]\n",
    "\n",
    "    for _, row in converted.iterrows():\n",
    "        path = list(dict.fromkeys(row[path_col]))  # remove duplicates, keep order\n",
    "        conv_value = row[value_col]\n",
    "        n = len(path)\n",
    "        \n",
    "        if n == 0:\n",
    "            continue\n",
    "        \n",
    "        for ch in path:\n",
    "            contrib = 0\n",
    "            for r in range(n):\n",
    "                for subset in combinations([c for c in path if c != ch], r):\n",
    "                    subset = set(subset)\n",
    "                    with_ch = subset | {ch}\n",
    "                    \n",
    "                    # Value with ch - value without ch (here we use set length as a proxy)\n",
    "                    marginal = 1 / len(with_ch) - (1 / len(subset) if subset else 0)\n",
    "                    \n",
    "                    # Weight by permutation likelihood\n",
    "                    weight = (1 / comb(n, len(subset))) / n\n",
    "                    contrib += weight * marginal\n",
    "\n",
    "            shapley_values[ch] += conv_value * contrib\n",
    "\n",
    "    # Normalize to percentages\n",
    "    total = sum(shapley_values.values())\n",
    "    shapley_pct = {k: round((v / total) * 100, 2) for k, v in shapley_values.items()}\n",
    "    return pd.DataFrame.from_dict(shapley_pct, orient='index', columns=['Weight (%)']).sort_values(by='Weight (%)', ascending=False)\n",
    "\n",
    "def comb(n, r):\n",
    "    from math import comb as math_comb\n",
    "    return math_comb(n, r)\n"
   ]
  },
  {
   "cell_type": "code",
   "execution_count": 101,
   "id": "7309f6f7-080d-4713-89c9-e21cfb1d5cf4",
   "metadata": {},
   "outputs": [
    {
     "name": "stdout",
     "output_type": "stream",
     "text": [
      "                Weight (%)\n",
      "Paid Search          27.66\n",
      "Facebook             27.46\n",
      "Online Video         19.01\n",
      "Instagram            13.61\n",
      "Online Display       12.26\n"
     ]
    }
   ],
   "source": [
    "shapley_df = shapley_attribution(journey_df)\n",
    "print(shapley_df)\n"
   ]
  },
  {
   "cell_type": "code",
   "execution_count": 134,
   "id": "6b848661-5cb8-425e-83fa-14b9dfafeb07",
   "metadata": {},
   "outputs": [
    {
     "data": {
      "text/plain": [
       "{'Facebook', 'Instagram', 'Online Display', 'Online Video', 'Paid Search'}"
      ]
     },
     "execution_count": 134,
     "metadata": {},
     "output_type": "execute_result"
    }
   ],
   "source": [
    "# Combine into a single DataFrame\n",
    "all_channels_prob = set().union(markov_df.index, shapley_df.index)\n",
    "all_channels_prob"
   ]
  },
  {
   "cell_type": "code",
   "execution_count": 138,
   "id": "f77bbd77-fa1b-4099-a6fe-f307c6141f22",
   "metadata": {},
   "outputs": [],
   "source": [
    "attribution_df_pb = pd.DataFrame({\n",
    "    'Channel': list(all_channels_prob),\n",
    "    'Markov': [markov_df.loc[ch, 'Weight (%)'] if ch in shapley_df.index else 0 for ch in all_channels_prob],\n",
    "    'Shapley': [shapley_df.loc[ch, 'Weight (%)'] if ch in shapley_df.index else 0 for ch in all_channels_prob]\n",
    "}).set_index('Channel').sort_index()"
   ]
  },
  {
   "cell_type": "code",
   "execution_count": 140,
   "id": "7f9ad45a-9900-4f62-9d55-88081e41f321",
   "metadata": {},
   "outputs": [
    {
     "data": {
      "text/html": [
       "<div>\n",
       "<style scoped>\n",
       "    .dataframe tbody tr th:only-of-type {\n",
       "        vertical-align: middle;\n",
       "    }\n",
       "\n",
       "    .dataframe tbody tr th {\n",
       "        vertical-align: top;\n",
       "    }\n",
       "\n",
       "    .dataframe thead th {\n",
       "        text-align: right;\n",
       "    }\n",
       "</style>\n",
       "<table border=\"1\" class=\"dataframe\">\n",
       "  <thead>\n",
       "    <tr style=\"text-align: right;\">\n",
       "      <th></th>\n",
       "      <th>Markov</th>\n",
       "      <th>Shapley</th>\n",
       "    </tr>\n",
       "    <tr>\n",
       "      <th>Channel</th>\n",
       "      <th></th>\n",
       "      <th></th>\n",
       "    </tr>\n",
       "  </thead>\n",
       "  <tbody>\n",
       "    <tr>\n",
       "      <th>Facebook</th>\n",
       "      <td>29.78</td>\n",
       "      <td>27.46</td>\n",
       "    </tr>\n",
       "    <tr>\n",
       "      <th>Instagram</th>\n",
       "      <td>17.14</td>\n",
       "      <td>13.61</td>\n",
       "    </tr>\n",
       "    <tr>\n",
       "      <th>Online Display</th>\n",
       "      <td>12.01</td>\n",
       "      <td>12.26</td>\n",
       "    </tr>\n",
       "    <tr>\n",
       "      <th>Online Video</th>\n",
       "      <td>16.51</td>\n",
       "      <td>19.01</td>\n",
       "    </tr>\n",
       "    <tr>\n",
       "      <th>Paid Search</th>\n",
       "      <td>24.56</td>\n",
       "      <td>27.66</td>\n",
       "    </tr>\n",
       "  </tbody>\n",
       "</table>\n",
       "</div>"
      ],
      "text/plain": [
       "                Markov  Shapley\n",
       "Channel                        \n",
       "Facebook         29.78    27.46\n",
       "Instagram        17.14    13.61\n",
       "Online Display   12.01    12.26\n",
       "Online Video     16.51    19.01\n",
       "Paid Search      24.56    27.66"
      ]
     },
     "execution_count": 140,
     "metadata": {},
     "output_type": "execute_result"
    }
   ],
   "source": [
    "attribution_df_pb"
   ]
  },
  {
   "cell_type": "markdown",
   "id": "9f96fce4-50ad-43c2-a583-0c71aa36ea9e",
   "metadata": {},
   "source": [
    "### Evaluate Results \n",
    "Find the Best Model across all Channels "
   ]
  },
  {
   "cell_type": "code",
   "execution_count": 142,
   "id": "9c0dc2b6-a03a-4a0e-99a6-a45c079da461",
   "metadata": {},
   "outputs": [
    {
     "data": {
      "text/plain": [
       "<Figure size 1400x600 with 0 Axes>"
      ]
     },
     "metadata": {},
     "output_type": "display_data"
    },
    {
     "data": {
      "image/png": "[encoded data removed]",
      "text/plain": [
       "<Figure size 1400x700 with 1 Axes>"
      ]
     },
     "metadata": {},
     "output_type": "display_data"
    },
    {
     "data": {
      "text/plain": [
       "<Figure size 1400x600 with 0 Axes>"
      ]
     },
     "metadata": {},
     "output_type": "display_data"
    },
    {
     "data": {
      "image/png": "[encoded data removed]",
      "text/plain": [
       "<Figure size 1400x700 with 1 Axes>"
      ]
     },
     "metadata": {},
     "output_type": "display_data"
    },
    {
     "data": {
      "text/plain": [
       "<Figure size 1400x600 with 0 Axes>"
      ]
     },
     "metadata": {},
     "output_type": "display_data"
    },
    {
     "data": {
      "image/png": "[encoded data removed]",
      "text/plain": [
       "<Figure size 1400x700 with 1 Axes>"
      ]
     },
     "metadata": {},
     "output_type": "display_data"
    }
   ],
   "source": [
    "# Plot single touch\n",
    "plt.figure(figsize=(14, 6))\n",
    "sns.set(style=\"whitegrid\")\n",
    "colors = sns.color_palette('Pastel1', n_colors=2)\n",
    "\n",
    "ax = attribution_df_st.plot(kind='bar', figsize=(14, 7), color=colors)\n",
    "plt.title(\"Single-Touch Model Comparison\", fontsize=16)\n",
    "plt.ylabel(\"Attribution Weight (%)\")\n",
    "plt.xlabel(\"Channel\")\n",
    "plt.xticks(rotation=0)\n",
    "plt.grid(axis='y', linestyle='--', alpha=0.7)\n",
    "plt.legend(title=\"Model\", bbox_to_anchor=(1.01, 1), loc='upper left')\n",
    "plt.tight_layout()\n",
    "plt.show()\n",
    "\n",
    "# Plot multi touch\n",
    "plt.figure(figsize=(14, 6))\n",
    "sns.set(style=\"whitegrid\")\n",
    "colors = sns.color_palette('Pastel1', n_colors=3)\n",
    "\n",
    "ax = attribution_df_mt.plot(kind='bar', figsize=(14, 7), color=colors)\n",
    "plt.title(\"Multi-Touch Model Comparison\", fontsize=16)\n",
    "plt.ylabel(\"Attribution Weight (%)\")\n",
    "plt.xlabel(\"Channel\")\n",
    "plt.xticks(rotation=0)\n",
    "plt.grid(axis='y', linestyle='--', alpha=0.7)\n",
    "plt.legend(title=\"Model\", bbox_to_anchor=(1.01, 1), loc='upper left')\n",
    "plt.tight_layout()\n",
    "plt.show()\n",
    "\n",
    "# Plot prob models\n",
    "plt.figure(figsize=(14, 6))\n",
    "sns.set(style=\"whitegrid\")\n",
    "colors = sns.color_palette('Pastel1', n_colors=2)\n",
    "\n",
    "ax = attribution_df_pb.plot(kind='bar', figsize=(14, 7), color=colors)\n",
    "plt.title(\"Probabilistic Model Comparison\", fontsize=16)\n",
    "plt.ylabel(\"Attribution Weight (%)\")\n",
    "plt.xlabel(\"Channel\")\n",
    "plt.xticks(rotation=0)\n",
    "plt.grid(axis='y', linestyle='--', alpha=0.7)\n",
    "plt.legend(title=\"Model\", bbox_to_anchor=(1.01, 1), loc='upper left')\n",
    "plt.tight_layout()\n",
    "plt.show()"
   ]
  },
  {
   "cell_type": "markdown",
   "id": "362fb3ed-b9b2-4da3-95d3-71ce70496092",
   "metadata": {},
   "source": [
    "Facebook and Paid Search consistently dominate across attribution models, while Online Display receives the least credit. This aggregated approach supports a more balanced investment decision, with future refinements possible through A/B testing."
   ]
  }
 ],
 "metadata": {
  "kernelspec": {
   "display_name": "Python 3 (ipykernel)",
   "language": "python",
   "name": "python3"
  },
  "language_info": {
   "codemirror_mode": {
    "name": "ipython",
    "version": 3
   },
   "file_extension": ".py",
   "mimetype": "text/x-python",
   "name": "python",
   "nbconvert_exporter": "python",
   "pygments_lexer": "ipython3",
   "version": "3.11.7"
  }
 },
 "nbformat": 4,
 "nbformat_minor": 5
}
